{
 "cells": [
  {
   "cell_type": "code",
   "execution_count": null,
   "id": "5b471065-d968-426f-9396-a856509a36c6",
   "metadata": {},
   "outputs": [],
   "source": [
    "import cudaq\n",
    "import numpy as np\n",
    "\n",
    "cudaq.register_operation(\"custom_h\", 1. / np.sqrt(2.) * np.array([1, 1, 1, -1]))\n",
    "\n",
    "cudaq.register_operation(\"custom_x\", np.array([0, 1, 1, 0]))\n",
    "\n",
    "@cudaq.kernel\n",
    "def bell():\n",
    "    qubits = cudaq.qvector(2)\n",
    "    custom_h(qubits[0])\n",
    "    custom_x.ctrl(qubits[0], qubits[1])\n",
    "\n",
    "cudaq.sample(bell).dump()\n"
   ]
  },
  {
   "cell_type": "code",
   "execution_count": null,
   "id": "5020d309-6990-49d8-8abe-59a8010364c6",
   "metadata": {},
   "outputs": [],
   "source": [
    "results = cudaq.sample(bell)\n",
    "print(\"Measurement distribution:\" + str(results))"
   ]
  },
  {
   "cell_type": "code",
   "execution_count": null,
   "id": "770272b2-cf1c-45b2-8e63-dc711d00471e",
   "metadata": {},
   "outputs": [],
   "source": [
    "import cudaq\n",
    "import numpy as np\n",
    "\n",
    "# Create and test a custom CNOT operation.\n",
    "cudaq.register_operation(\"my_cnot\", np.array([1, 0, 0, 0,\n",
    "                                              0, 1, 0, 0,\n",
    "                                              0, 0, 0, 1,\n",
    "                                              0, 0, 1, 0]))\n",
    "\n",
    "@cudaq.kernel\n",
    "def bell_pair():\n",
    "    qubits = cudaq.qvector(2)\n",
    "    h(qubits[0])\n",
    "    my_cnot(qubits[0], qubits[1]) # `my_cnot(control, target)`\n",
    "\n",
    "\n",
    "cudaq.sample(bell_pair).dump() # prints { 11:500 00:500 } (exact numbers will be random)\n"
   ]
  },
  {
   "cell_type": "code",
   "execution_count": null,
   "id": "8eb11d46-230c-4dda-9544-0d9c2e9dbb6b",
   "metadata": {},
   "outputs": [],
   "source": [
    "results = cudaq.sample(bell_pair)\n",
    "print(\"Measurement distribution:\" + str(results))"
   ]
  },
  {
   "cell_type": "code",
   "execution_count": null,
   "id": "58af5b4e-6806-484f-b97a-7c04db711b98",
   "metadata": {},
   "outputs": [],
   "source": []
  }
 ],
 "metadata": {
  "kernelspec": {
   "display_name": "Python 3 (ipykernel)",
   "language": "python",
   "name": "python3"
  },
  "language_info": {
   "codemirror_mode": {
    "name": "ipython",
    "version": 3
   },
   "file_extension": ".py",
   "mimetype": "text/x-python",
   "name": "python",
   "nbconvert_exporter": "python",
   "pygments_lexer": "ipython3",
   "version": "3.10.12"
  }
 },
 "nbformat": 4,
 "nbformat_minor": 5
}
