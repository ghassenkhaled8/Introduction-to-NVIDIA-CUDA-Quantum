{
 "cells": [
  {
   "cell_type": "code",
   "execution_count": null,
   "id": "f6ef70e6-8a4a-441d-a5be-c553744bbe1b",
   "metadata": {},
   "outputs": [],
   "source": [
    "import cudaq\n",
    "from cudaq import spin\n",
    "\n",
    "operator = spin.z(0)\n",
    "print(operator)  # prints: [1+0j] Z\n",
    "\n",
    "\n",
    "@cudaq.kernel\n",
    "def kernel():\n",
    "    qubit = cudaq.qubit()\n",
    "    h(qubit)\n",
    "    #mz(qubit)"
   ]
  },
  {
   "cell_type": "code",
   "execution_count": null,
   "id": "448d2dce-46f9-49a8-9554-711d2bb34843",
   "metadata": {},
   "outputs": [],
   "source": [
    "result = cudaq.observe(kernel, operator)\n",
    "print(result.expectation())  # prints: 0.0"
   ]
  },
  {
   "cell_type": "code",
   "execution_count": null,
   "id": "5b266a48-8203-45df-8e15-57d3dfc60e94",
   "metadata": {},
   "outputs": [],
   "source": [
    "result = cudaq.observe(kernel, operator, shots_count=1000)\n",
    "print(result.expectation())  # prints non-zero value"
   ]
  },
  {
   "cell_type": "code",
   "execution_count": null,
   "id": "29505beb-c615-43de-877b-7ce0c42f77db",
   "metadata": {},
   "outputs": [],
   "source": []
  }
 ],
 "metadata": {
  "kernelspec": {
   "display_name": "Python 3 (ipykernel)",
   "language": "python",
   "name": "python3"
  },
  "language_info": {
   "codemirror_mode": {
    "name": "ipython",
    "version": 3
   },
   "file_extension": ".py",
   "mimetype": "text/x-python",
   "name": "python",
   "nbconvert_exporter": "python",
   "pygments_lexer": "ipython3",
   "version": "3.10.12"
  }
 },
 "nbformat": 4,
 "nbformat_minor": 5
}
