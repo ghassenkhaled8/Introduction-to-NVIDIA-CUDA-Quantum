{
 "cells": [
  {
   "cell_type": "code",
   "execution_count": null,
   "id": "4c0d8ecf-f0c1-4e5e-9cf8-9f871fab3f74",
   "metadata": {},
   "outputs": [],
   "source": [
    "import cudaq\n",
    "import matplotlib.pyplot as plt\n",
    "\n",
    "cudaq.set_target(\"ionq\", target=\"simulator\", noise=\"aria-1\") # noise=\"aria-1\" noise=\"ideal\" noise=\"harmony\" emulate=True\n",
    "#cudaq.set_target('quantinuum', emulate=True) # ionq oqc quantinuum \n",
    "\n",
    "# Create the kernel we'd like to execute on IonQ.\n",
    "@cudaq.kernel\n",
    "def kernel(qubit_count: int):\n",
    "    qvector = cudaq.qvector(qubit_count)\n",
    "    h(qvector[0])\n",
    "    for qubit in range(qubit_count - 1):\n",
    "        x.ctrl(qvector[qubit], qvector[qubit + 1])\n",
    "\n",
    "results = cudaq.sample(kernel,5)\n",
    "\n",
    "print(results)\n"
   ]
  },
  {
   "cell_type": "code",
   "execution_count": null,
   "id": "5547d189-577a-4d73-abf1-0b56572e3b17",
   "metadata": {},
   "outputs": [],
   "source": [
    "states = []\n",
    "counts = []\n",
    "for i in results.items():\n",
    "    states.append(i[0])\n",
    "    counts.append(i[1])\n",
    "states,counts = list(zip(*sorted(zip(states,counts))))"
   ]
  },
  {
   "cell_type": "code",
   "execution_count": null,
   "id": "45e8336d-45ba-410f-99e0-eee686cf0568",
   "metadata": {},
   "outputs": [],
   "source": [
    "plt.figure(figsize=(25, 4))\n",
    "plt.bar(states,counts,width=0.5)"
   ]
  },
  {
   "cell_type": "code",
   "execution_count": null,
   "id": "7596d811-600e-4e6d-811c-d734ed7fd752",
   "metadata": {},
   "outputs": [],
   "source": []
  }
 ],
 "metadata": {
  "kernelspec": {
   "display_name": "Python 3 (ipykernel)",
   "language": "python",
   "name": "python3"
  },
  "language_info": {
   "codemirror_mode": {
    "name": "ipython",
    "version": 3
   },
   "file_extension": ".py",
   "mimetype": "text/x-python",
   "name": "python",
   "nbconvert_exporter": "python",
   "pygments_lexer": "ipython3",
   "version": "3.10.12"
  }
 },
 "nbformat": 4,
 "nbformat_minor": 5
}
