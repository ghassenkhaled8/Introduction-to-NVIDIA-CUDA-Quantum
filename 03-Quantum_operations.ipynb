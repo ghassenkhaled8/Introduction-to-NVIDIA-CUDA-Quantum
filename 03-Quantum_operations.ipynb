{
 "cells": [
  {
   "cell_type": "code",
   "execution_count": null,
   "id": "c39315ed-c3ec-4c3c-a0e3-71f31c2cb9a3",
   "metadata": {},
   "outputs": [],
   "source": [
    "import cudaq\n",
    "from numpy import pi"
   ]
  },
  {
   "cell_type": "code",
   "execution_count": null,
   "id": "6416fc5d-2418-4c8c-a295-9909ed06ded9",
   "metadata": {},
   "outputs": [],
   "source": [
    "@cudaq.kernel\n",
    "def kernel():\n",
    "    qubit = cudaq.qubit()\n",
    "    #x(qubit)\n",
    "    #y(qubit)\n",
    "    #z(qubit)\n",
    "    h(qubit)\n",
    "    #s(qubit)\n",
    "    #t(qubit)\n",
    "    #rx(pi/9,qubit)\n",
    "    #ry(pi/9,qubit)\n",
    "    #rz(pi/9,qubit)\n",
    "    #u3(pi/6,pi/4,0,qubit)\n",
    "    t.adj(qubit)"
   ]
  },
  {
   "cell_type": "code",
   "execution_count": null,
   "id": "55ebc9e9-c434-4be0-bb20-35ae5edc81e1",
   "metadata": {},
   "outputs": [],
   "source": [
    "blochSphere = cudaq.add_to_bloch_sphere(cudaq.get_state(kernel))\n",
    "cudaq.show(blochSphere)"
   ]
  },
  {
   "cell_type": "code",
   "execution_count": null,
   "id": "96fdba88-ca43-45e9-bfbf-095996fc0503",
   "metadata": {},
   "outputs": [],
   "source": [
    "@cudaq.kernel\n",
    "def kernel():\n",
    "    q = cudaq.qvector(3)\n",
    "    x(q[0])\n",
    "    swap(q[0], q[1])\n",
    "    mz(q)"
   ]
  },
  {
   "cell_type": "code",
   "execution_count": null,
   "id": "de4b2a2f-1993-47c6-9368-951337df904b",
   "metadata": {},
   "outputs": [],
   "source": [
    "results = cudaq.sample(kernel)\n",
    "print(\"Measurement distribution:\" + str(results))"
   ]
  },
  {
   "cell_type": "code",
   "execution_count": null,
   "id": "ed426c5f-15ac-4698-be15-db068c1b2a22",
   "metadata": {},
   "outputs": [],
   "source": [
    "@cudaq.kernel\n",
    "def kernel():\n",
    "    q = cudaq.qvector(3)\n",
    "    x(q[0])\n",
    "    #x(q[1])\n",
    "    x.ctrl(q[0], q[1])\n",
    "    #x.ctrl([q[0],q[1]], q[2])\n",
    "    mz(q)"
   ]
  },
  {
   "cell_type": "code",
   "execution_count": null,
   "id": "cb8adfa4-c3ae-4c31-8fb8-211a1cfc3e87",
   "metadata": {},
   "outputs": [],
   "source": [
    "results = cudaq.sample(kernel)\n",
    "print(\"Measurement distribution:\" + str(results))"
   ]
  },
  {
   "cell_type": "code",
   "execution_count": null,
   "id": "021a1e97-669f-42a4-beca-d9793a12f1d3",
   "metadata": {},
   "outputs": [],
   "source": [
    "@cudaq.kernel\n",
    "def kernel():\n",
    "    qubit = cudaq.qubit()\n",
    "    #x(qubit)\n",
    "    #y(qubit)\n",
    "    #z(qubit)\n",
    "    h(qubit)\n",
    "    mx(qubit)"
   ]
  },
  {
   "cell_type": "code",
   "execution_count": null,
   "id": "77cf1eb1-cefa-4175-85ec-7a35e727ea1c",
   "metadata": {},
   "outputs": [],
   "source": [
    "blochSphere = cudaq.add_to_bloch_sphere(cudaq.get_state(kernel))\n",
    "cudaq.show(blochSphere)\n",
    "results = cudaq.sample(kernel)\n",
    "print(\"Measurement distribution:\" + str(results))"
   ]
  },
  {
   "cell_type": "code",
   "execution_count": null,
   "id": "5c7e1b07-9fb0-4a66-bbac-065e6abf99c4",
   "metadata": {},
   "outputs": [],
   "source": []
  }
 ],
 "metadata": {
  "kernelspec": {
   "display_name": "Python 3 (ipykernel)",
   "language": "python",
   "name": "python3"
  },
  "language_info": {
   "codemirror_mode": {
    "name": "ipython",
    "version": 3
   },
   "file_extension": ".py",
   "mimetype": "text/x-python",
   "name": "python",
   "nbconvert_exporter": "python",
   "pygments_lexer": "ipython3",
   "version": "3.10.12"
  }
 },
 "nbformat": 4,
 "nbformat_minor": 5
}
