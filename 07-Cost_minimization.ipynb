{
 "cells": [
  {
   "attachments": {},
   "cell_type": "markdown",
   "metadata": {},
   "source": [
    "# Cost Minimization\n",
    "\n",
    "Below we start with a basic example of a hybrid variational algorithm which involves flipping the Bloch vector of a qubit from the $\\ket{0}$ to the $\\ket{1}$ state. First we import the relevant packages and set our backend to simulate our workflow on NVIDIA GPUs. \n",
    "\n",
    "\n"
   ]
  },
  {
   "cell_type": "code",
   "execution_count": null,
   "metadata": {},
   "outputs": [],
   "source": [
    "import cudaq\n",
    "from typing import List\n",
    "\n",
    "#cudaq.set_target(\"nvidia\")"
   ]
  },
  {
   "cell_type": "code",
   "execution_count": null,
   "metadata": {},
   "outputs": [],
   "source": [
    "# Initialize a kernel/ ansatz and variational parameters.\n",
    "@cudaq.kernel\n",
    "def kernel(angles: List[float]):\n",
    "    # Allocate a qubit that is initialized to the |0> state.\n",
    "    \n",
    "    qubit = cudaq.qubit()\n",
    "    # Define gates and the qubits they act upon.\n",
    "    rx(angles[0], qubit)\n",
    "    ry(angles[1], qubit)\n",
    "    \"\"\"\n",
    "\n",
    "    q = cudaq.qvector(2)\n",
    "    rx(angles[0], q[0])\n",
    "    ry(angles[1], q[0])\n",
    "    rx(angles[2], q[1])\n",
    "    ry(angles[3], q[1])\n",
    "    x.ctrl(q[1], q[0])\n",
    "    \"\"\"\n",
    "\n",
    "\n",
    "# Our Hamiltonian will be the Z expectation value of our qubit.\n",
    "hamiltonian = cudaq.spin.z(0)\n",
    "\n",
    "# Initial gate parameters which intialize the qubit in the zero state\n",
    "initial_parameters = [0, 0]\n",
    "\n",
    "print(cudaq.draw(kernel, initial_parameters))"
   ]
  },
  {
   "attachments": {},
   "cell_type": "markdown",
   "metadata": {},
   "source": [
    "We build our cost function such that its minimal value corresponds to the qubit being in the $\\ket{1}$ state. The observe call below allows us to simulate our statevector $\\ket{\\psi}$, and calculate $\\bra{\\psi}Z\\ket{\\psi}$.\n"
   ]
  },
  {
   "cell_type": "code",
   "execution_count": null,
   "metadata": {},
   "outputs": [],
   "source": [
    "cost_values = []\n",
    "\n",
    "\n",
    "def cost(parameters):\n",
    "    \"\"\"Returns the expectation value as our cost.\"\"\"\n",
    "    expectation_value = cudaq.observe(kernel, hamiltonian,\n",
    "                                      parameters).expectation()\n",
    "    cost_values.append(expectation_value)\n",
    "    print(parameters)\n",
    "    return expectation_value"
   ]
  },
  {
   "cell_type": "code",
   "execution_count": null,
   "metadata": {},
   "outputs": [],
   "source": [
    "# We see that the initial value of our cost function is one, demonstrating that our qubit is in the zero state\n",
    "initial_cost_value = cost(initial_parameters)\n",
    "print(initial_cost_value)"
   ]
  },
  {
   "attachments": {},
   "cell_type": "markdown",
   "metadata": {},
   "source": [
    "Below we use our built-in optimization suite to minimize the cost function. We will be using the gradient-free COBYLA alogrithm. "
   ]
  },
  {
   "cell_type": "code",
   "execution_count": null,
   "metadata": {},
   "outputs": [],
   "source": [
    "# Define a CUDA-Q optimizer.\n",
    "optimizer = cudaq.optimizers.COBYLA() #NelderMead() #COBYLA()\n",
    "optimizer.initial_parameters = initial_parameters\n",
    "\n",
    "result = optimizer.optimize(dimensions=2, function=cost)"
   ]
  },
  {
   "cell_type": "code",
   "execution_count": null,
   "metadata": {
    "tags": [
     "nbsphinx-thumbnail"
    ]
   },
   "outputs": [],
   "source": [
    "# Plotting how the value of the cost function decreases during the minimization procedure.\n",
    "import matplotlib.pyplot as plt\n",
    "\n",
    "x_values = list(range(len(cost_values)))\n",
    "y_values = cost_values\n",
    "\n",
    "plt.plot(x_values, y_values)\n",
    "\n",
    "plt.xlabel(\"Epochs\")\n",
    "plt.ylabel(\"Cost Value\")"
   ]
  },
  {
   "attachments": {},
   "cell_type": "markdown",
   "metadata": {},
   "source": [
    "We see that the final value or our cost function, $\\bra{\\psi}Z\\ket{\\psi} = -1$ demonstrating that the qubit is in the $\\ket{1}$ state."
   ]
  }
 ],
 "metadata": {
  "kernelspec": {
   "display_name": "Python 3 (ipykernel)",
   "language": "python",
   "name": "python3"
  },
  "language_info": {
   "codemirror_mode": {
    "name": "ipython",
    "version": 3
   },
   "file_extension": ".py",
   "mimetype": "text/x-python",
   "name": "python",
   "nbconvert_exporter": "python",
   "pygments_lexer": "ipython3",
   "version": "3.10.12"
  },
  "vscode": {
   "interpreter": {
    "hash": "31f2aee4e71d21fbe5cf8b01ff0e069b9275f58929596ceb00d14d90e3e16cd6"
   }
  }
 },
 "nbformat": 4,
 "nbformat_minor": 4
}
