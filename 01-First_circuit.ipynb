{
 "cells": [
  {
   "cell_type": "code",
   "execution_count": null,
   "id": "da4f657b-24d2-4d02-b28e-0641304d6b47",
   "metadata": {},
   "outputs": [],
   "source": [
    "import cudaq\n",
    "import matplotlib.pyplot as plt\n",
    "\n",
    "# Define our kernel.\n",
    "@cudaq.kernel\n",
    "def kernel(qubit_count: int):\n",
    "    # Allocate our qubits.\n",
    "    qvector = cudaq.qvector(qubit_count)\n",
    "    # Place the first qubit in the superposition state.\n",
    "    h(qvector[0])\n",
    "    # Loop through the allocated qubits and apply controlled-X,\n",
    "    # or CNOT, operations between them.\n",
    "    for qubit in range(qubit_count - 1):\n",
    "        x.ctrl(qvector[qubit], qvector[qubit + 1])\n",
    "    # Measure the qubits.\n",
    "    mz(qvector)"
   ]
  },
  {
   "cell_type": "code",
   "execution_count": null,
   "id": "015fe670-ee56-4f70-bd1c-7ba4bce740c8",
   "metadata": {},
   "outputs": [],
   "source": [
    "qubit_count = 5\n",
    "print(cudaq.draw(kernel, qubit_count))\n",
    "results = cudaq.sample(kernel, qubit_count)\n",
    "# Should see a roughly 50/50 distribution between the |00> and\n",
    "# |11> states. Example: {00: 505  11: 495}\n",
    "print(\"Measurement distribution:\" + str(results))"
   ]
  },
  {
   "cell_type": "code",
   "execution_count": null,
   "id": "8002858a-68ba-406a-9e3c-567c815a09d8",
   "metadata": {},
   "outputs": [],
   "source": [
    "# With an increased shots count, we will still see the same 50/50 distribution,\n",
    "# but now with 10,000 total measurements instead of the default 1000.\n",
    "# Example: {00: 5005  11: 4995}\n",
    "results = cudaq.sample(kernel, qubit_count, shots_count=10000)\n",
    "print(\"Measurement distribution:\" + str(results))"
   ]
  },
  {
   "cell_type": "code",
   "execution_count": null,
   "id": "51de807b-28ed-4d8e-8511-eb4e9203a3e3",
   "metadata": {},
   "outputs": [],
   "source": [
    "states = []\n",
    "counts = []\n",
    "for i in results.items():\n",
    "    states.append(i[0])\n",
    "    counts.append(i[1])\n",
    "states,counts = list(zip(*sorted(zip(states,counts))))"
   ]
  },
  {
   "cell_type": "code",
   "execution_count": null,
   "id": "96e6d1c4-2ea0-4ae0-96f9-0ecb6234f982",
   "metadata": {},
   "outputs": [],
   "source": [
    "plt.bar(states,counts,width=0.5)"
   ]
  },
  {
   "cell_type": "code",
   "execution_count": null,
   "id": "af58e31e-46e8-48dd-b465-1cae877e7c1a",
   "metadata": {},
   "outputs": [],
   "source": [
    "@cudaq.kernel\n",
    "def kernel2(qubit_count: int):\n",
    "    # Allocate our qubits.\n",
    "    qvector = cudaq.qvector(qubit_count)\n",
    "    # Place all qubits in a uniform superposition.\n",
    "    h(qvector)\n",
    "    # Measure the qubits.\n",
    "    mz(qvector)"
   ]
  },
  {
   "cell_type": "code",
   "execution_count": null,
   "id": "f5fe363f-0406-4a43-a015-cbe78aa7869c",
   "metadata": {},
   "outputs": [],
   "source": [
    "print(cudaq.draw(kernel2, qubit_count))"
   ]
  },
  {
   "cell_type": "code",
   "execution_count": null,
   "id": "f7b5ca5a-51c9-4107-974d-4df463a3dfad",
   "metadata": {},
   "outputs": [],
   "source": [
    "results = cudaq.sample(kernel2, qubit_count)#, shots_count=10000)\n",
    "print(\"Measurement distribution:\" + str(results))"
   ]
  },
  {
   "cell_type": "code",
   "execution_count": null,
   "id": "685bdb13-c45f-47c8-b515-70be4515e002",
   "metadata": {},
   "outputs": [],
   "source": [
    "states = []\n",
    "counts = []\n",
    "for i in results.items():\n",
    "    states.append(i[0])\n",
    "    counts.append(i[1])\n",
    "states,counts = list(zip(*sorted(zip(states,counts))))"
   ]
  },
  {
   "cell_type": "code",
   "execution_count": null,
   "id": "0feb2518-b872-4744-a600-e4fa0e921161",
   "metadata": {},
   "outputs": [],
   "source": [
    "plt.figure(figsize=(25, 4))\n",
    "plt.bar(states,counts,width=0.5)"
   ]
  },
  {
   "cell_type": "code",
   "execution_count": null,
   "id": "a0ade021-ee4d-43e0-aec4-cb785e9c4283",
   "metadata": {},
   "outputs": [],
   "source": []
  }
 ],
 "metadata": {
  "kernelspec": {
   "display_name": "Python 3 (ipykernel)",
   "language": "python",
   "name": "python3"
  },
  "language_info": {
   "codemirror_mode": {
    "name": "ipython",
    "version": 3
   },
   "file_extension": ".py",
   "mimetype": "text/x-python",
   "name": "python",
   "nbconvert_exporter": "python",
   "pygments_lexer": "ipython3",
   "version": "3.10.12"
  }
 },
 "nbformat": 4,
 "nbformat_minor": 5
}
